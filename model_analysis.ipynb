{
 "cells": [
  {
   "cell_type": "code",
   "execution_count": 1,
   "metadata": {},
   "outputs": [],
   "source": [
    "#Importar bibliotecas \n",
    "import pandas as pd\n",
    "import ID3_tree_implementation as id3"
   ]
  },
  {
   "cell_type": "code",
   "execution_count": 2,
   "metadata": {},
   "outputs": [],
   "source": [
    "#Leituras das tabelas apos tratamento de dados\n",
    "users = pd.read_csv(\"cleaned_users.csv\",sep = \";\",index_col = 0)\n",
    "df = pd.read_csv(\"cleaned_ratings.csv\",sep = \";\")\n",
    "movies = pd.read_csv(\"cleaned_movies.csv\",sep = \";\", index_col = 0)"
   ]
  },
  {
   "cell_type": "code",
   "execution_count": 3,
   "metadata": {},
   "outputs": [],
   "source": [
    "#Desnormalização das tabelas, considerando que a primeira coluna é o atributo que se deseja prever\n",
    "df = df.join(movies, on = \"MovieID\", how = \"left\")\n",
    "df.drop(\"MovieID\", axis = 1, inplace = True)\n",
    "df = df.join(users,on = \"UserID\", how = \"left\")\n",
    "df.drop(\"UserID\", axis = 1, inplace = True)"
   ]
  },
  {
   "cell_type": "code",
   "execution_count": 4,
   "metadata": {},
   "outputs": [
    {
     "name": "stdout",
     "output_type": "stream",
     "text": [
      "<class 'pandas.core.frame.DataFrame'>\n",
      "RangeIndex: 1000209 entries, 0 to 1000208\n",
      "Data columns (total 7 columns):\n",
      " #   Column      Non-Null Count    Dtype \n",
      "---  ------      --------------    ----- \n",
      " 0   Rating      1000209 non-null  int64 \n",
      " 1   Title       1000209 non-null  object\n",
      " 2   Genres      1000209 non-null  int64 \n",
      " 3   Gender      1000209 non-null  object\n",
      " 4   Occupation  1000209 non-null  int64 \n",
      " 5   Zip-code    992313 non-null   object\n",
      " 6   Age         1000209 non-null  int64 \n",
      "dtypes: int64(4), object(3)\n",
      "memory usage: 53.4+ MB\n"
     ]
    }
   ],
   "source": [
    "#Análise de dados faltantes\n",
    "df.info()"
   ]
  },
  {
   "cell_type": "code",
   "execution_count": 5,
   "metadata": {},
   "outputs": [],
   "source": [
    "#Percebe-se que para o zip code existem 7869 valores nulos, isso corresponde a 0.7% da quantidade de dados.\n",
    "#Mesmo sendo pouca a quantidade de dados, é possivel preencher esse valor da seguinte forma:\n",
    "\n",
    "#Iterar por todas as linhas que contem um valor NaN\n",
    "for index,line in df.loc[df.isnull().any(axis = 1)].iterrows():\n",
    "\n",
    "    #Selecionar o local em que o filme foi mais assistido\n",
    "    #É importante ressaltar que se utiliza o parametro Zip-code aqui porque ja se sabe que só a coluna Occupation possui valores NaN\n",
    "    serie_for_analysis = df.loc[df.Title == line.Title,'Zip-code'].value_counts()\n",
    "\n",
    "    #Para se utilizar a mesma cidade defini-se que é necessário pelo menos 50 respostas vindas dessa mesma cidade para o filme em questao\n",
    "    #Isso porque para filmes que tem poucas respostas, adicionar a cidade a essa linha que tem dado faltante pode interfirir significativamente no resultado\n",
    "    if (len(serie_for_analysis) != 0 and serie_for_analysis[0] >= 50):\n",
    "        df.loc[index,'Zip-code'] = serie_for_analysis.index[0]"
   ]
  },
  {
   "cell_type": "code",
   "execution_count": 6,
   "metadata": {},
   "outputs": [
    {
     "name": "stdout",
     "output_type": "stream",
     "text": [
      "<class 'pandas.core.frame.DataFrame'>\n",
      "RangeIndex: 1000209 entries, 0 to 1000208\n",
      "Data columns (total 7 columns):\n",
      " #   Column      Non-Null Count    Dtype \n",
      "---  ------      --------------    ----- \n",
      " 0   Rating      1000209 non-null  int64 \n",
      " 1   Title       1000209 non-null  object\n",
      " 2   Genres      1000209 non-null  int64 \n",
      " 3   Gender      1000209 non-null  object\n",
      " 4   Occupation  1000209 non-null  int64 \n",
      " 5   Zip-code    998295 non-null   object\n",
      " 6   Age         1000209 non-null  int64 \n",
      "dtypes: int64(4), object(3)\n",
      "memory usage: 53.4+ MB\n"
     ]
    }
   ],
   "source": [
    "#Análise do novo dataframe \n",
    "df.info()"
   ]
  },
  {
   "cell_type": "code",
   "execution_count": 7,
   "metadata": {},
   "outputs": [
    {
     "name": "stdout",
     "output_type": "stream",
     "text": [
      "<class 'pandas.core.frame.DataFrame'>\n",
      "Int64Index: 998295 entries, 0 to 1000208\n",
      "Data columns (total 7 columns):\n",
      " #   Column      Non-Null Count   Dtype \n",
      "---  ------      --------------   ----- \n",
      " 0   Rating      998295 non-null  int64 \n",
      " 1   Title       998295 non-null  object\n",
      " 2   Genres      998295 non-null  int64 \n",
      " 3   Gender      998295 non-null  object\n",
      " 4   Occupation  998295 non-null  int64 \n",
      " 5   Zip-code    998295 non-null  object\n",
      " 6   Age         998295 non-null  int64 \n",
      "dtypes: int64(4), object(3)\n",
      "memory usage: 60.9+ MB\n"
     ]
    }
   ],
   "source": [
    "#Diminuiu a quantidade de campos nulos, mas ainda existem alguns assim. Para corrigir isso excluiremos as linhas que ainda contema algum campo nulo\n",
    "df.dropna(inplace = True)\n",
    "df.info()\n",
    "\n",
    "#Percebe-se que a quantidade agora esta correta"
   ]
  },
  {
   "cell_type": "code",
   "execution_count": 27,
   "metadata": {},
   "outputs": [],
   "source": [
    "#Treinar o modelo\n",
    "tree = id3.Tree()\n",
    "tree.train(df)"
   ]
  },
  {
   "cell_type": "code",
   "execution_count": 42,
   "metadata": {},
   "outputs": [],
   "source": [
    "#Lendo o arquivo que se deseja prever\n",
    "test_dataset = pd.read_csv('answer.csv', sep = ';')"
   ]
  },
  {
   "cell_type": "code",
   "execution_count": 43,
   "metadata": {},
   "outputs": [],
   "source": [
    "#Criar o classificador a priori\n",
    "priori = df[['Rating','Title']].groupby('Title').mean()"
   ]
  },
  {
   "cell_type": "code",
   "execution_count": 44,
   "metadata": {},
   "outputs": [],
   "source": [
    "#Predizer os valores baseados nas inforamções dadas\n",
    "#Testar no modelo id3\n",
    "id3_result = tree.predict(test_dataset)\n",
    "\n",
    "#Testar o priori\n",
    "priori_result = []\n",
    "for _,line in test_dataset.iterrows():\n",
    "    priori_result.append(priori.loc[line.Title].Rating)\n",
    "\n",
    "#Armazenar os resultados reais\n",
    "real_result = test_dataset.loc[:,'Rating']"
   ]
  },
  {
   "cell_type": "code",
   "execution_count": 45,
   "metadata": {},
   "outputs": [
    {
     "name": "stdout",
     "output_type": "stream",
     "text": [
      "id3: 6    priori: 6.454459339837603\n"
     ]
    }
   ],
   "source": [
    "#Avaliação dos modelos pelo método do chi2\n",
    "#Definir a função\n",
    "def chi2(real,predict):\n",
    "    total = 0\n",
    "    for num1,num2 in zip(real,predict):\n",
    "        total += (num1-num2)*(num1-num2)\n",
    "    \n",
    "    return total\n",
    "\n",
    "chi2_id3 = chi2(real_result,id3_result)\n",
    "chi2_priori = chi2(real_result,priori_result)\n",
    "print(f'id3: {chi2_id3}    priori: {chi2_priori}')"
   ]
  },
  {
   "cell_type": "code",
   "execution_count": 46,
   "metadata": {},
   "outputs": [],
   "source": [
    "#Percebe-se que os dois índices são praticamente iguais"
   ]
  },
  {
   "cell_type": "code",
   "execution_count": 47,
   "metadata": {},
   "outputs": [],
   "source": [
    "#Avaliação dos modelos pela matrix de confusão\n",
    "#Importar biblioteca para visualizar melhor a matriz\n",
    "import seaborn as sns\n",
    "\n",
    "#Definir a função que faz a matriz\n",
    "def confusion_matrix(predict_values,real_values):\n",
    "    #Criar uma matriz conforme as categorias\n",
    "    matrix = pd.DataFrame([[0 for j in range(5)] for i in range(5)], columns = [1,2,3,4,5], index = [1,2,3,4,5])\n",
    "\n",
    "    #Preencher a matriz\n",
    "    for predict_value,real_value in zip(predict_values,real_values):\n",
    "        matrix.loc[real_value,predict_value] += 1\n",
    "    \n",
    "    return matrix\n",
    "\n",
    "#Para esse é necessário que os valores sejam inteiros\n",
    "priori_result = list(map(lambda x: int(round(x,0)), priori_result))\n",
    "\n",
    "confusion_matrix_id3 = confusion_matrix(id3_result,real_result)\n",
    "confusion_matrix_priori = confusion_matrix(priori_result,real_result)"
   ]
  },
  {
   "cell_type": "code",
   "execution_count": 48,
   "metadata": {},
   "outputs": [
    {
     "data": {
      "text/plain": [
       "<AxesSubplot:>"
      ]
     },
     "execution_count": 48,
     "metadata": {},
     "output_type": "execute_result"
    },
    {
     "data": {
      "image/png": "[encoded data removed]",
      "text/plain": [
       "<Figure size 432x288 with 2 Axes>"
      ]
     },
     "metadata": {
      "needs_background": "light"
     },
     "output_type": "display_data"
    }
   ],
   "source": [
    "sns.heatmap(confusion_matrix_id3, vmin = 0, annot  = True)"
   ]
  },
  {
   "cell_type": "code",
   "execution_count": 49,
   "metadata": {},
   "outputs": [
    {
     "data": {
      "text/plain": [
       "<AxesSubplot:>"
      ]
     },
     "execution_count": 49,
     "metadata": {},
     "output_type": "execute_result"
    },
    {
     "data": {
      "image/png": "[encoded data removed]",
      "text/plain": [
       "<Figure size 432x288 with 2 Axes>"
      ]
     },
     "metadata": {
      "needs_background": "light"
     },
     "output_type": "display_data"
    }
   ],
   "source": [
    "sns.heatmap(confusion_matrix_priori, vmin = 0, annot  = True)"
   ]
  },
  {
   "cell_type": "code",
   "execution_count": 50,
   "metadata": {},
   "outputs": [
    {
     "name": "stdout",
     "output_type": "stream",
     "text": [
      "precisão id3: 0.4    precisão priori: 0.3\n"
     ]
    }
   ],
   "source": [
    "#Avaliação da precisão\n",
    "#Definir função que calcula\n",
    "def accuracy(confusion_matrix):\n",
    "    result = 0\n",
    "\n",
    "    #Percorrer os elementos da diagonal principal\n",
    "    for i in range(1,6):\n",
    "        result += confusion_matrix.loc[i,i]\n",
    "    \n",
    "    #Dividir pelo total e retornar\n",
    "    return result/confusion_matrix.sum().sum()\n",
    "\n",
    "id3_accuracy = accuracy(confusion_matrix_id3)\n",
    "priori_accuracy = accuracy(confusion_matrix_priori)\n",
    "print(f'precisão id3: {id3_accuracy}    precisão priori: {priori_accuracy}')"
   ]
  },
  {
   "cell_type": "code",
   "execution_count": 51,
   "metadata": {},
   "outputs": [],
   "source": [
    "#Em relação a matrix de confusão, os dois modelos se aroximam também \n",
    "#A precisão dos dois é bem próxima\n",
    "#Além disso, os valores que foram previstos errados estão localizados próximos a diagonal principal\n",
    "#Percebe-se que o modelo id3 é mais consistente porque os valores previstos estão mais distribuidos, no modelo a priori, 80% das vezes ele disse que o resultado seria 4"
   ]
  },
  {
   "cell_type": "code",
   "execution_count": 52,
   "metadata": {},
   "outputs": [
    {
     "name": "stdout",
     "output_type": "stream",
     "text": [
      "kappa id3: 0.0909   kappa priori: -0.0606\n"
     ]
    }
   ],
   "source": [
    "#Análise pelo coeficiente kappa\n",
    "#Definir a função\n",
    "def kappa(confusion_matrix):\n",
    "    result = 0\n",
    "    total = confusion_matrix.sum().sum()\n",
    "\n",
    "    #Definir o percentual de cada coluna\n",
    "    percentual = []\n",
    "    for column in range(1,6):\n",
    "        percentual.append(confusion_matrix.loc[:,column].sum()/total)\n",
    "    \n",
    "    #Definir uma nova matrix\n",
    "    new_matrix = pd.DataFrame([[0 for j in range(5)] for i in range(5)], columns = [1,2,3,4,5], index = [1,2,3,4,5])\n",
    "    for line in range(1,6):\n",
    "        line_sum = confusion_matrix.loc[line,:].sum()\n",
    "        for column in range(1,6):\n",
    "            new_matrix.loc[line,column] = line_sum*percentual[column-1]\n",
    "    return (accuracy(confusion_matrix)-accuracy(new_matrix))/(1-accuracy(new_matrix))\n",
    "\n",
    "kappa_id3 = kappa(confusion_matrix_id3)\n",
    "kappa_priori = kappa(confusion_matrix_priori)\n",
    "print(f'kappa id3: {round(kappa_id3,4)}   kappa priori: {round(kappa_priori,4)}')"
   ]
  },
  {
   "cell_type": "code",
   "execution_count": null,
   "metadata": {},
   "outputs": [],
   "source": [
    "#Percebe-se que apesar de terem uma acuracia próxima, o modelo id3 é levemente melhor como demonstra o kappa\n",
    "#Isso acontece porque o modelo a priori coloca a maioria das previsões como 4, e acaba acertando por coincidencia de como o test_dataset esta distribuido\n",
    "#Mesmo assim, o modelo id3 não possui resultados muito bons, isso se deve a como foi construido o dataset teste. \n",
    "#O dataset de treinamento foi construido por ratings de pessoas brasileiras enquanto todo o dataset de treino é de pessoas os EUA, que possuem culturas diferentes\n",
    "#Além disso, o dataset de teste é muito pequeno e cada erro ganha uma proporcionalidade muito maior"
   ]
  }
 ],
 "metadata": {
  "interpreter": {
   "hash": "80488cd22f2db058d68ba8ebfe998917ca59d70d88617a0d6d56ef1a8fbde9e0"
  },
  "kernelspec": {
   "display_name": "Python 3.9.7 ('base')",
   "language": "python",
   "name": "python3"
  },
  "language_info": {
   "codemirror_mode": {
    "name": "ipython",
    "version": 3
   },
   "file_extension": ".py",
   "mimetype": "text/x-python",
   "name": "python",
   "nbconvert_exporter": "python",
   "pygments_lexer": "ipython3",
   "version": "3.9.7"
  },
  "orig_nbformat": 4
 },
 "nbformat": 4,
 "nbformat_minor": 2
}
