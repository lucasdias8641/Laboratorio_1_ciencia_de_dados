{
 "cells": [
  {
   "cell_type": "code",
   "execution_count": 24,
   "metadata": {},
   "outputs": [],
   "source": [
    "#Importar bibliotecas necessárias\n",
    "import pandas as pd"
   ]
  },
  {
   "cell_type": "code",
   "execution_count": 51,
   "metadata": {},
   "outputs": [],
   "source": [
    "#Importar movie.csv\n",
    "#Para garantir que o arquivo fosse lido, caracteres do tipo ; no meio do nome do filme foram excluidos\n",
    "#para que fosse possível a leitura do arquivo\n",
    "#df = pd.read_csv(\"movies.csv\", delimiter = \";\", index_col = 0)\n",
    "df = pd.read_csv(\"movies.csv\",delimiter = \";\",index_col = 0,encoding_errors = 'strict')"
   ]
  },
  {
   "cell_type": "code",
   "execution_count": 61,
   "metadata": {},
   "outputs": [],
   "source": [
    "#Definir uma função para alterar o genero por um numero\n",
    "def gender_to_int(gender):\n",
    "    total = 0\n",
    "    list = gender.split(\"|\")\n",
    "    #Para definir o gênero do filme iremos associar cada genero a um numero de forma que a soma de n números seja obtida unicamente por esse soma.\n",
    "    #Assim, é possivel definir cada combinação de filmes como um número único\n",
    "    switch = {\n",
    "        \"Action\": 1, \"Adventure\": 2, \"Animation\": 4, \"Children's\":8,\n",
    "        \"Comedy\": 16, \"Crime\": 32, \"Documentary\": 64, \"Drama\": 128,\n",
    "        \"Fantasy\": 256, \"Film-Noir\": 512, \"Horror\": 1024, \"Musical\":2048,\n",
    "        \"Mystery\": 4096, \"Romance\": 8192, \"Sci-Fi\": 16384, \"Thriller\": 32768,\n",
    "        \"War\": 65536 ,  \"Western\": 131072\n",
    "    }\n",
    "\n",
    "    for _ in range(len(list)):\n",
    "        total += switch.get(list[_])\n",
    "\n",
    "    return total\n",
    "\n",
    "#Alterar o df\n",
    "df['Genres'] = df['Genres'].map(gender_to_int)"
   ]
  },
  {
   "cell_type": "code",
   "execution_count": 66,
   "metadata": {},
   "outputs": [],
   "source": [
    "#Exportar csv movies com os dados tratados\n",
    "df.to_csv(\"cleaned_movies.csv\", sep = \";\")"
   ]
  }
 ],
 "metadata": {
  "interpreter": {
   "hash": "80488cd22f2db058d68ba8ebfe998917ca59d70d88617a0d6d56ef1a8fbde9e0"
  },
  "kernelspec": {
   "display_name": "Python 3.9.7 ('base')",
   "language": "python",
   "name": "python3"
  },
  "language_info": {
   "codemirror_mode": {
    "name": "ipython",
    "version": 3
   },
   "file_extension": ".py",
   "mimetype": "text/x-python",
   "name": "python",
   "nbconvert_exporter": "python",
   "pygments_lexer": "ipython3",
   "version": "3.9.7"
  },
  "orig_nbformat": 4
 },
 "nbformat": 4,
 "nbformat_minor": 2
}
