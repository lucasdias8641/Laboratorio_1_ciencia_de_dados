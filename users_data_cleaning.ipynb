{
 "cells": [
  {
   "cell_type": "code",
   "execution_count": 22,
   "metadata": {},
   "outputs": [],
   "source": [
    "#Importar biblioteca\n",
    "import pandas as pd\n",
    "import numpy as np"
   ]
  },
  {
   "cell_type": "code",
   "execution_count": 23,
   "metadata": {},
   "outputs": [],
   "source": [
    "#Ler o arquivo\n",
    "df = pd.read_csv(\"users.csv\",sep = \",\",index_col = 0)\n",
    "\n",
    "#Transformar data de aniversario em idade\n",
    "#Como tem datas de nascimento com dia 0, trocamos esse dia para 1 ser possivel transformar em data.\n",
    "#Como iremos segmentar as idades, o efeito sera bem pequeno \n",
    "df['birthday'] = df['birthday'].map(lambda x: x.replace(\"/0/\",\"/1/\"))\n",
    "\n",
    "#Definir constantes de data\n",
    "today = np.datetime64(pd.Timestamp.today())\n",
    "year = np.timedelta64(1,'Y')\n",
    "\n",
    "#Definir quantos anos cada pessoa tem\n",
    "df['birthday'] = df['birthday'].map(lambda x: int((today - np.datetime64(pd.Timestamp(x))).astype('timedelta64[Y]')/year))\n"
   ]
  },
  {
   "cell_type": "code",
   "execution_count": 24,
   "metadata": {},
   "outputs": [],
   "source": [
    "#Criar um categoria de idades\n",
    "#Essa categoria é baseada nas faixas etárias inicialmente por causa da classificação etária dos filmes até os 18 anos \n",
    "#Defini-se uma faixa etaria de 18 ate 24, pois pelo conhecimento do cominio do problema, entende-se que o gosto nessas faixas etárias são parecidos\n",
    "#Em seguida, defini-se uma faixa etaria de 24 a 30 e de dez em dez anos\n",
    "#A partir dos 60 defini como um categoria só, por considerar que nessa faixa etária existe pouca mudança nos gostos\n",
    "def definir_categoria_idade(x):\n",
    "    if x<=12:\n",
    "        return 0\n",
    "    elif x<=14:\n",
    "        return 1\n",
    "    elif x<=16:\n",
    "        return 2\n",
    "    elif x<=18:\n",
    "        return 3\n",
    "    elif x<=24:\n",
    "        return 4\n",
    "    elif x<=30:\n",
    "        return 5\n",
    "    elif x<=40:\n",
    "        return 6\n",
    "    elif x<=50:\n",
    "        return 7\n",
    "    elif x<=60:\n",
    "        return 8\n",
    "    else:\n",
    "        return 9\n",
    "\n",
    "#Criar a coluna das idades correspondentes a essa categoria\n",
    "df['Age'] = df['birthday'].map(definir_categoria_idade)\n",
    "\n",
    "#Excluir a coluna birthday que nao é mais necessaria\n",
    "df.drop(\"birthday\", axis = 1, inplace = True)\n",
    "\n",
    "#Excluir coluna nome, pois o nome da pessoa nao interfere no seu gosto\n",
    "df.drop(\"name\", axis = 1, inplace = True)"
   ]
  },
  {
   "cell_type": "code",
   "execution_count": 25,
   "metadata": {},
   "outputs": [],
   "source": [
    "state_zip = {'Massachusetts':[1000, 2791],'Rhode Island':[2801, 2940],'Nova Hampshire':[3031, 3904],'Maine':[3901, 4992],   \n",
    "    'Vermont':[5001, 5907],'Connecticut':[6001, 6927],'Nova Jérsia':[7001, 8989],'Nova Iorque (estado)':[10000, 14999], \n",
    "    'Pensilvânia':[15001, 19699],'Delaware':[19701, 19980],'Washington, D.C.': [20001, 20091],'Washington, D.C.': [20201, 20599],\n",
    "    'Maryland':[20600, 22214],'Virgínia':[22003,  24966],'Virgínia Ocidental':[24712,  26886],'Carolina do Norte':[27000,  28999],\n",
    "    'Carolina do Sul':[29000,  29945],'Geórgia (Estados Unidos)':[30000,  31999],'Flórida':[32000,  34999],'Alabama':[35004 , 36925],\n",
    "    'Tennessee':[37000,  38599],'Mississippi':[38601,  39776],'Kentucky':[40003,  42788],'Ohio':[43000 , 45899],\n",
    "    'Indiana':[46001,  47997],'Michigan':[48000,  49971],'Iowa':[50001,  52809],'Wisconsin':[53001,  54990],\n",
    "    'Minnesota':[55001,  56763],'Dakota do Sul':[57001,  57799],'Dakota do Norte':[58001,  58856],'Montana':[59001, 59937], \n",
    "    'Illinois':[60001, 62999],'Missouri':[63005, 66160],'Kansas':[66002, 67954],'Nebraska':[68001, 69367], \n",
    "    'Luisiana':[70000, 71599],'Arkansas':[71601, 72959],'Oklahoma':[73001, 74966],'Texas':[75000, 79999],    \n",
    "    'Colorado':[80000, 81658],'Wyoming':[82001, 83128],'Idaho':[83201, 83877],'Utah':[84001, 84791],    \n",
    "    'Arizona':[85001, 86556],'Novo México': [87000, 88439],'Nevada': [88900, 89883],'Califórnia': [90000, 96199],    \n",
    "    'Havaí': [96701, 96863],'Oregon': [97001, 97920],'Washington': [98000, 99403],'Alasca': [99501, 99950]}\n",
    "\n",
    "def definir_estado(x):\n",
    "    for state,zip in state_zip.items():\n",
    "        if x >= zip[0] and x <= zip[1]:\n",
    "            return state\n"
   ]
  },
  {
   "cell_type": "code",
   "execution_count": 26,
   "metadata": {},
   "outputs": [],
   "source": [
    "#Definir cada estado\n",
    "#Transformar em int, nos casos em que chegam XXXXX-XXXX, para definir o estado só é relevante os 5 primeiros numeros\n",
    "df['Zip-code'] = df['Zip-code'].map(lambda x: int(x.split(\"-\")[0]))\n",
    "\n",
    "#O Zipcode para cada estado é definido por um intervalo de numeros, conforme a tabela: https://codigo-postal.co/pt-br/eua/\n",
    "#Separou-se os grupos por estado, pois a similaridade da cultura dentro de um estado pode gerar uma similaridade de gostos\n",
    "df['Zip-code'] = df['Zip-code'].map(definir_estado)"
   ]
  },
  {
   "cell_type": "code",
   "execution_count": 28,
   "metadata": {},
   "outputs": [
    {
     "data": {
      "text/plain": [
       "Califórnia                  1108\n",
       "Nova Iorque (estado)         467\n",
       "Minnesota                    433\n",
       "Texas                        313\n",
       "Massachusetts                304\n",
       "Illinois                     289\n",
       "Michigan                     254\n",
       "Ohio                         221\n",
       "Washington                   201\n",
       "Pensilvânia                  177\n",
       "Flórida                      162\n",
       "Wisconsin                    138\n",
       "Maryland                     134\n",
       "Nova Jérsia                  131\n",
       "Oregon                       117\n",
       "Virgínia                     114\n",
       "Colorado                     103\n",
       "Tennessee                     98\n",
       "Carolina do Norte             95\n",
       "Missouri                      92\n",
       "Geórgia (Estados Unidos)      92\n",
       "Arizona                       84\n",
       "Connecticut                   83\n",
       "Indiana                       80\n",
       "Iowa                          57\n",
       "Maine                         52\n",
       "Kentucky                      47\n",
       "Nova Hampshire                43\n",
       "Oklahoma                      42\n",
       "Nevada                        39\n",
       "Luisiana                      35\n",
       "Carolina do Sul               34\n",
       "Utah                          32\n",
       "Arkansas                      29\n",
       "Kansas                        28\n",
       "Novo México                   26\n",
       "Havaí                         24\n",
       "Alabama                       23\n",
       "Rhode Island                  22\n",
       "Nebraska                      21\n",
       "Virgínia Ocidental            16\n",
       "Delaware                      15\n",
       "Vermont                       15\n",
       "Idaho                         13\n",
       "Montana                       12\n",
       "Alasca                        10\n",
       "Dakota do Sul                 10\n",
       "Mississippi                    9\n",
       "Dakota do Norte                8\n",
       "Wyoming                        7\n",
       "Name: Zip-code, dtype: int64"
      ]
     },
     "execution_count": 28,
     "metadata": {},
     "output_type": "execute_result"
    }
   ],
   "source": [
    "#Verificar se todos os numeros foram atribuidos a um estado\n",
    "df['Zip-code'].value_counts()\n",
    "#Todos numeros foram associados a um estado, dessa forma esta correto essa coluna"
   ]
  },
  {
   "cell_type": "code",
   "execution_count": null,
   "metadata": {},
   "outputs": [],
   "source": [
    "#Verificar os dados de Gender\n",
    "df['Gender'].value_counts()\n",
    "#Como os campos estao preenchidos somento com M e F, essa coluna esta correta"
   ]
  },
  {
   "cell_type": "code",
   "execution_count": null,
   "metadata": {},
   "outputs": [],
   "source": [
    "#Verificar os dados de ocupação\n",
    "df['Occupation'].value_counts()\n",
    "#Os dados dessa coluna já estao devidamente preparados"
   ]
  },
  {
   "cell_type": "code",
   "execution_count": null,
   "metadata": {},
   "outputs": [],
   "source": [
    "#Exportar csv movies com os dados tratados\n",
    "df.to_csv(\"cleaned_users.csv\", sep = \";\")"
   ]
  }
 ],
 "metadata": {
  "interpreter": {
   "hash": "80488cd22f2db058d68ba8ebfe998917ca59d70d88617a0d6d56ef1a8fbde9e0"
  },
  "kernelspec": {
   "display_name": "Python 3.9.7 ('base')",
   "language": "python",
   "name": "python3"
  },
  "language_info": {
   "codemirror_mode": {
    "name": "ipython",
    "version": 3
   },
   "file_extension": ".py",
   "mimetype": "text/x-python",
   "name": "python",
   "nbconvert_exporter": "python",
   "pygments_lexer": "ipython3",
   "version": "3.9.7"
  },
  "orig_nbformat": 4
 },
 "nbformat": 4,
 "nbformat_minor": 2
}
