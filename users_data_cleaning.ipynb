{
 "cells": [
  {
   "cell_type": "code",
   "execution_count": null,
   "metadata": {},
   "outputs": [],
   "source": [
    "#Importar biblioteca\n",
    "import pandas as pd\n",
    "import numpy as np"
   ]
  },
  {
   "cell_type": "code",
   "execution_count": null,
   "metadata": {},
   "outputs": [],
   "source": [
    "#Ler o arquivo\n",
    "df = pd.read_csv(\"users.csv\",sep = \",\",index_col = 0)\n",
    "\n",
    "#Transformar data de aniversario em idade\n",
    "#Como tem datas de nascimento com dia 0, trocamos esse dia para 1 ser possivel transformar em data.\n",
    "#Como iremos segmentar as idades, o efeito sera bem pequeno \n",
    "df['birthday'] = df['birthday'].map(lambda x: x.replace(\"/0/\",\"/1/\"))\n",
    "\n",
    "#Definir constantes de data\n",
    "today = np.datetime64(pd.Timestamp.today())\n",
    "year = np.timedelta64(1,'Y')\n",
    "\n",
    "#Definir quantos anos cada pessoa tem\n",
    "df['birthday'] = df['birthday'].map(lambda x: int((today - np.datetime64(pd.Timestamp(x))).astype('timedelta64[Y]')/year))\n"
   ]
  },
  {
   "cell_type": "code",
   "execution_count": null,
   "metadata": {},
   "outputs": [],
   "source": [
    "#Criar um categoria de idades\n",
    "#Essa categoria é baseada nas faixas etárias inicialmente por causa da classificação etária dos filmes até os 18 anos \n",
    "#Defini-se uma faixa etaria de 18 ate 24, pois pelo conhecimento do cominio do problema, entende-se que o gosto nessas faixas etárias são parecidos\n",
    "#Em seguida, defini-se uma faixa etaria de 24 a 30 e de dez em dez anos\n",
    "#A partir dos 60 defini como um categoria só, por considerar que nessa faixa etária existe pouca mudança nos gostos\n",
    "def definir_categoria_idade(x):\n",
    "    if x<=12:\n",
    "        return 0\n",
    "    elif x<=14:\n",
    "        return 1\n",
    "    elif x<=16:\n",
    "        return 2\n",
    "    elif x<=18:\n",
    "        return 3\n",
    "    elif x<=24:\n",
    "        return 4\n",
    "    elif x<=30:\n",
    "        return 5\n",
    "    elif x<=40:\n",
    "        return 6\n",
    "    elif x<=50:\n",
    "        return 7\n",
    "    elif x<=60:\n",
    "        return 8\n",
    "    else:\n",
    "        return 9\n",
    "\n",
    "#Criar a coluna das idades correspondentes a essa categoria\n",
    "df['idade'] = df['birthday'].map(definir_categoria_idade)\n",
    "\n",
    "#Excluir a coluna birthday que nao é mais necessaria\n",
    "df.drop(\"birthday\", axis = 1, inplace = True)\n",
    "\n",
    "#Excluir coluna nome, pois o nome da pessoa nao interfere no seu gosto\n",
    "df.drop(\"name\", axis = 1, inplace = True)"
   ]
  },
  {
   "cell_type": "code",
   "execution_count": null,
   "metadata": {},
   "outputs": [],
   "source": [
    "def definir_estado(x):\n",
    "    if x >= 1000 and x <= 2791: return 'Massachusetts'\n",
    "    elif x >= 2801 and x <= 2940: return 'Rhode Island'\n",
    "    elif x >= 3031 and x <= 3904: return 'Nova Hampshire'\n",
    "    elif x >= 3901 and x <= 4992: return 'Maine'\n",
    "    elif x >= 5001 and x <= 5907: return 'Vermont'\n",
    "    elif x >= 6001 and x <= 6927: return 'Connecticut'\n",
    "    elif x >= 7001 and x <= 8989: return 'Nova Jérsia'\n",
    "    elif x >= 10000 and x <= 14999: return 'Nova Iorque (estado)'\n",
    "    elif x >= 15001 and x <= 19699: return 'Pensilvânia'\n",
    "    elif x >= 19701 and x <= 19980: return 'Delaware'\n",
    "    elif (x>= 20001 and x <= 20091) or (x>=20201 and x<=20599): return 'Washington, D.C.'\n",
    "    elif x >= 20600 and x <= 22214: return 'Maryland'\n",
    "    elif x >= 22003 and x <= 24966: return 'Virgínia'\n",
    "    elif x >= 24712 and x <= 26886: return 'Virgínia Ocidental'\n",
    "    elif x >= 27000 and x <= 28999: return 'Carolina do Norte'\n",
    "    elif x >= 29000 and x <= 29945: return 'Carolina do Sul'\n",
    "    elif x >= 30000 and x <= 31999: return 'Geórgia (Estados Unidos)'\n",
    "    elif x >= 32000 and x <= 34999: return 'Flórida'\n",
    "    elif x >= 35004 and x <= 36925: return 'Alabama'\n",
    "    elif x >= 37000 and x <= 38599: return 'Tennessee'\n",
    "    elif x >= 38601 and x <= 39776: return 'Mississippi'\n",
    "    elif x >= 40003 and x <= 42788: return 'Kentucky'\n",
    "    elif x >= 43000 and x <= 45899: return 'Ohio'\n",
    "    elif x >= 46001 and x <= 47997: return 'Indiana'\n",
    "    elif x >= 48000 and x <= 49971: return 'Michigan'\n",
    "    elif x >= 50001 and x <= 52809: return 'Iowa'\n",
    "    elif x >= 53001 and x <= 54990: return 'Wisconsin'\n",
    "    elif x >= 55001 and x <= 56763: return 'Minnesota'\n",
    "    elif x >= 57001 and x <= 57799: return 'Dakota do Sul'\n",
    "    elif x >= 58001 and x <= 58856: return 'Dakota do Norte'\n",
    "    elif x >= 59001 and x <= 59937: return 'Montana'\n",
    "    elif x >= 60001 and x <= 62999: return 'Illinois'\n",
    "    elif x >= 63005 and x <= 66160: return 'Missouri'\n",
    "    elif x >= 66002 and x <= 67954: return 'Kansas'\n",
    "    elif x >= 68001 and x <= 69367: return 'Nebraska'\n",
    "    elif x >= 70000 and x <= 71599: return 'Luisiana'\n",
    "    elif x >= 71601 and x <= 72959: return 'Arkansas'\n",
    "    elif x >= 73001 and x <= 74966: return 'Oklahoma'\n",
    "    elif x >= 75000 and x <= 79999: return 'Texas'\n",
    "    elif x >= 80000 and x <= 81658: return 'Colorado'\n",
    "    elif x >= 82001 and x <= 83128: return 'Wyoming'\n",
    "    elif x >= 83201 and x <= 83877: return 'Idaho'\n",
    "    elif x >= 84001 and x <= 84791: return 'Utah'\n",
    "    elif x >= 85001 and x <= 86556: return 'Arizona'\n",
    "    elif x >= 87000 and x <= 88439: return 'Novo México'\n",
    "    elif x >= 88900 and x <= 89883: return 'Nevada'\n",
    "    elif x >= 90000 and x <= 96199: return 'Califórnia'\n",
    "    elif x >= 96701 and x <= 96863: return 'Havaí'\n",
    "    elif x >= 97001 and x <= 97920: return 'Oregon'\n",
    "    elif x >= 98000 and x <= 99403: return 'Washington'\n",
    "    elif x >= 99501 and x <= 99950: return 'Alasca'"
   ]
  },
  {
   "cell_type": "code",
   "execution_count": null,
   "metadata": {},
   "outputs": [],
   "source": [
    "#Definir cada estado\n",
    "#Transformar em int, nos casos em que chegam XXXXX-XXXX, para definir o estado só é relevante os 5 primeiros numeros\n",
    "df['Zip-code'] = df['Zip-code'].map(lambda x: int(x.split(\"-\")[0]))\n",
    "\n",
    "#O Zipcode para cada estado é definido por um intervalo de numeros, conforme a tabela: https://codigo-postal.co/pt-br/eua/\n",
    "#Separou-se os grupos por estado, pois a similaridade da cultura dentro de um estado pode gerar uma similaridade de gostos\n",
    "df['Zip-code'] = df['Zip-code'].map(definir_estado)"
   ]
  },
  {
   "cell_type": "code",
   "execution_count": null,
   "metadata": {},
   "outputs": [],
   "source": [
    "#Verificar se todos os numeros foram atribuidos a um estado\n",
    "df['Zip-code'].value_counts()\n",
    "#Todos numeros foram associados a um estado, dessa forma esta correto essa coluna"
   ]
  },
  {
   "cell_type": "code",
   "execution_count": null,
   "metadata": {},
   "outputs": [],
   "source": [
    "#Verificar os dados de Gender\n",
    "df['Gender'].value_counts()\n",
    "#Como os campos estao preenchidos somento com M e F, essa coluna esta correta"
   ]
  },
  {
   "cell_type": "code",
   "execution_count": null,
   "metadata": {},
   "outputs": [],
   "source": [
    "#Verificar os dados de ocupação\n",
    "df['Occupation'].value_counts()\n",
    "#Os dados dessa coluna já estao devidamente preparados"
   ]
  },
  {
   "cell_type": "code",
   "execution_count": 41,
   "metadata": {},
   "outputs": [],
   "source": [
    "#Exportar csv movies com os dados tratados\n",
    "df.to_csv(\"cleaned_users.csv\", sep = \";\")"
   ]
  }
 ],
 "metadata": {
  "interpreter": {
   "hash": "80488cd22f2db058d68ba8ebfe998917ca59d70d88617a0d6d56ef1a8fbde9e0"
  },
  "kernelspec": {
   "display_name": "Python 3.9.7 ('base')",
   "language": "python",
   "name": "python3"
  },
  "language_info": {
   "codemirror_mode": {
    "name": "ipython",
    "version": 3
   },
   "file_extension": ".py",
   "mimetype": "text/x-python",
   "name": "python",
   "nbconvert_exporter": "python",
   "pygments_lexer": "ipython3",
   "version": "3.9.7"
  },
  "orig_nbformat": 4
 },
 "nbformat": 4,
 "nbformat_minor": 2
}
