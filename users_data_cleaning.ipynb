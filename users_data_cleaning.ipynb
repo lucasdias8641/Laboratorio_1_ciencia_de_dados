{
 "cells": [
  {
   "cell_type": "code",
   "execution_count": 52,
   "metadata": {},
   "outputs": [],
   "source": [
    "#Importar biblioteca\n",
    "import pandas as pd\n",
    "import numpy as np"
   ]
  },
  {
   "cell_type": "code",
   "execution_count": 109,
   "metadata": {},
   "outputs": [],
   "source": [
    "#Ler o arquivo\n",
    "df = pd.read_csv(\"users.csv\",sep = \",\",index_col = 0)\n",
    "\n",
    "#Transformar data de aniversario em idade\n",
    "#Como tem datas de nascimento com dia 0, trocamos esse dia para 1 ser possivel transformar em data.\n",
    "#Como iremos segmentar as idades, o efeito sera bem pequeno \n",
    "df['birthday'] = df['birthday'].map(lambda x: x.replace(\"/0/\",\"/1/\"))\n",
    "\n",
    "#Definir constantes de data\n",
    "today = np.datetime64(pd.Timestamp.today())\n",
    "year = np.timedelta64(1,'Y')\n",
    "\n",
    "#Definir quantos anos cada pessoa tem\n",
    "df['birthday'] = df['birthday'].map(lambda x: int((today - np.datetime64(pd.Timestamp(x))).astype('timedelta64[Y]')/year))\n",
    "\n",
    "#Criar um categoria de idades\n",
    "#Essa categoria é baseada nas faixas etárias inicialmente por causa da classificação etária dos filmes até os 18 anos \n",
    "#Defini-se uma faixa etaria de 18 ate 24, pois pelo conhecimento do cominio do problema, entende-se que o gosto nessas faixas etárias são parecidos\n",
    "#Em seguida, defini-se uma faixa etaria de 24 a 30 e de dez em dez anos\n",
    "#A partir dos 60 defini como um categoria só, por considerar que nessa faixa etária existe pouca mudança nos gostos\n",
    "def definir_categoria_idade(x):\n",
    "    if x<=12:\n",
    "        return 0\n",
    "    elif x<=14:\n",
    "        return 1\n",
    "    elif x<=16:\n",
    "        return 2\n",
    "    elif x<=18:\n",
    "        return 3\n",
    "    elif x<=24:\n",
    "        return 4\n",
    "    elif x<=30:\n",
    "        return 5\n",
    "    elif x<=40:\n",
    "        return 6\n",
    "    elif x<=50:\n",
    "        return 7\n",
    "    elif x<=60:\n",
    "        return 8\n",
    "    else:\n",
    "        return 9\n",
    "\n",
    "#Criar a coluna das idades correspondentes a essa categoria\n",
    "df['idade'] = df['birthday'].map(definir_categoria_idade)\n",
    "\n",
    "#Excluir a coluna birthday que nao é mais necessaria\n",
    "df.drop(\"birthday\", axis = 1, inplace = True)"
   ]
  }
 ],
 "metadata": {
  "interpreter": {
   "hash": "80488cd22f2db058d68ba8ebfe998917ca59d70d88617a0d6d56ef1a8fbde9e0"
  },
  "kernelspec": {
   "display_name": "Python 3.9.7 ('base')",
   "language": "python",
   "name": "python3"
  },
  "language_info": {
   "codemirror_mode": {
    "name": "ipython",
    "version": 3
   },
   "file_extension": ".py",
   "mimetype": "text/x-python",
   "name": "python",
   "nbconvert_exporter": "python",
   "pygments_lexer": "ipython3",
   "version": "3.9.7"
  },
  "orig_nbformat": 4
 },
 "nbformat": 4,
 "nbformat_minor": 2
}
