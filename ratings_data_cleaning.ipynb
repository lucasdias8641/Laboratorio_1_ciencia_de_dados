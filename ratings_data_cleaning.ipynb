{
 "cells": [
  {
   "cell_type": "code",
   "execution_count": null,
   "metadata": {},
   "outputs": [],
   "source": [
    "#Importar bibliotecas necessárias\n",
    "import pandas as pd"
   ]
  },
  {
   "cell_type": "code",
   "execution_count": null,
   "metadata": {},
   "outputs": [],
   "source": [
    "#Ler o arquivo\n",
    "df = pd.read_csv(\"ratings.csv\", sep = \";\", index_col = 0,dtype = {\"UserId\": int, \"MovieID\": int, \"Rating\": int})\n",
    "\n",
    "#Excluir coluna timestamp\n",
    "#A hora que o usuário da a nota para o filme não afeta sua classificação, essa afirmação é baseada no conhecimento do domínio do problema\n",
    "df.drop(\"Timestamp\", axis = 1, inplace = True)"
   ]
  },
  {
   "cell_type": "code",
   "execution_count": null,
   "metadata": {},
   "outputs": [],
   "source": [
    "#Verificar rating\n",
    "df.Rating.value_counts()\n",
    "#Como todas as classificações pertencem a [1,2,3,4,5] essa coluna esta pronta para o algoritimo de aprendizagem"
   ]
  },
  {
   "cell_type": "code",
   "execution_count": null,
   "metadata": {},
   "outputs": [],
   "source": [
    "#Exportar csv movies com os dados tratados\n",
    "df.to_csv(\"cleaned_ratings.csv\", sep = \";\")"
   ]
  }
 ],
 "metadata": {
  "interpreter": {
   "hash": "80488cd22f2db058d68ba8ebfe998917ca59d70d88617a0d6d56ef1a8fbde9e0"
  },
  "kernelspec": {
   "display_name": "Python 3.9.7 ('base')",
   "language": "python",
   "name": "python3"
  },
  "language_info": {
   "codemirror_mode": {
    "name": "ipython",
    "version": 3
   },
   "file_extension": ".py",
   "mimetype": "text/x-python",
   "name": "python",
   "nbconvert_exporter": "python",
   "pygments_lexer": "ipython3",
   "version": "3.9.7"
  },
  "orig_nbformat": 4
 },
 "nbformat": 4,
 "nbformat_minor": 2
}
